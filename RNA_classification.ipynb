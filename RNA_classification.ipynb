{
 "cells": [
  {
   "cell_type": "markdown",
   "metadata": {},
   "source": [
    "## 1.1) MakeNcRNAmatrix\n",
    "\n",
    "    Input : fasta format\n",
    "    Output : ./outdir\n",
    "\n",
    "## 1.2) AssemblyMatrix\n",
    "    \n",
    "    Input : ./outdir\n",
    "    Output : \"ncRNApair_data.npy\" And \"ncRNApair_labe.npy\"\n",
    "\n",
    "## 2) DeepLearning\n",
    "\n",
    "    Input : \"ncRNApair_data.npy\" And \"ncRNApair_labe.npy\"\n",
    "    Output :"
   ]
  },
  {
   "cell_type": "code",
   "execution_count": 45,
   "metadata": {
    "scrolled": true
   },
   "outputs": [
    {
     "name": "stdout",
     "output_type": "stream",
     "text": [
      "Requirement already satisfied: biopython in c:\\python\\python37\\lib\\site-packages (1.78)\n",
      "Requirement already satisfied: numpy in c:\\python\\python37\\lib\\site-packages (from biopython) (1.18.1)\n"
     ]
    },
    {
     "name": "stderr",
     "output_type": "stream",
     "text": [
      "WARNING: You are using pip version 20.2.3; however, version 20.2.4 is available.\n",
      "You should consider upgrading via the 'c:\\python\\python37\\python.exe -m pip install --upgrade pip' command.\n"
     ]
    },
    {
     "name": "stdout",
     "output_type": "stream",
     "text": [
      "Requirement already satisfied: pandas in c:\\python\\python37\\lib\\site-packages (1.0.3)\n",
      "Requirement already satisfied: numpy>=1.13.3 in c:\\python\\python37\\lib\\site-packages (from pandas) (1.18.1)\n",
      "Requirement already satisfied: python-dateutil>=2.6.1 in c:\\python\\python37\\lib\\site-packages (from pandas) (2.8.1)\n",
      "Requirement already satisfied: pytz>=2017.2 in c:\\python\\python37\\lib\\site-packages (from pandas) (2019.3)\n",
      "Requirement already satisfied: six>=1.5 in c:\\python\\python37\\lib\\site-packages (from python-dateutil>=2.6.1->pandas) (1.14.0)\n"
     ]
    },
    {
     "name": "stderr",
     "output_type": "stream",
     "text": [
      "WARNING: You are using pip version 20.2.3; however, version 20.2.4 is available.\n",
      "You should consider upgrading via the 'c:\\python\\python37\\python.exe -m pip install --upgrade pip' command.\n"
     ]
    },
    {
     "name": "stdout",
     "output_type": "stream",
     "text": [
      "Requirement already satisfied: Bio in c:\\python\\python37\\lib\\site-packages (0.0.6)\n",
      "Requirement already satisfied: toml in c:\\python\\python37\\lib\\site-packages (from Bio) (0.10.1)\n",
      "Requirement already satisfied: plac==1.2.0 in c:\\python\\python37\\lib\\site-packages (from Bio) (1.2.0)\n",
      "Requirement already satisfied: intervaltree in c:\\python\\python37\\lib\\site-packages (from Bio) (3.1.0)\n",
      "Requirement already satisfied: jinja2 in c:\\python\\python37\\lib\\site-packages (from Bio) (2.11.2)\n",
      "Requirement already satisfied: sortedcontainers<3.0,>=2.0 in c:\\python\\python37\\lib\\site-packages (from intervaltree->Bio) (2.2.2)\n",
      "Requirement already satisfied: MarkupSafe>=0.23 in c:\\python\\python37\\lib\\site-packages (from jinja2->Bio) (1.1.1)\n"
     ]
    },
    {
     "name": "stderr",
     "output_type": "stream",
     "text": [
      "WARNING: You are using pip version 20.2.3; however, version 20.2.4 is available.\n",
      "You should consider upgrading via the 'c:\\python\\python37\\python.exe -m pip install --upgrade pip' command.\n"
     ]
    }
   ],
   "source": [
    "!pip3 install biopython\n",
    "!pip3 install pandas\n",
    "!pip3 install Bio"
   ]
  },
  {
   "cell_type": "markdown",
   "metadata": {},
   "source": [
    "## MakeNcRNAmatrix\n",
    "\n",
    "    Input : fasta format\n",
    "    Output : ./outdir"
   ]
  },
  {
   "cell_type": "code",
   "execution_count": 46,
   "metadata": {},
   "outputs": [
    {
     "ename": "ModuleNotFoundError",
     "evalue": "No module named 'Bio'",
     "output_type": "error",
     "traceback": [
      "\u001b[1;31m---------------------------------------------------------------------------\u001b[0m",
      "\u001b[1;31mModuleNotFoundError\u001b[0m                       Traceback (most recent call last)",
      "\u001b[1;32m<ipython-input-46-b47357ad469f>\u001b[0m in \u001b[0;36m<module>\u001b[1;34m\u001b[0m\n\u001b[0;32m      3\u001b[0m \u001b[1;32mimport\u001b[0m \u001b[0mre\u001b[0m\u001b[1;33m\u001b[0m\u001b[1;33m\u001b[0m\u001b[0m\n\u001b[0;32m      4\u001b[0m \u001b[1;33m\u001b[0m\u001b[0m\n\u001b[1;32m----> 5\u001b[1;33m \u001b[1;32mfrom\u001b[0m \u001b[0mBio\u001b[0m \u001b[1;32mimport\u001b[0m \u001b[0mSeqIO\u001b[0m\u001b[1;33m\u001b[0m\u001b[1;33m\u001b[0m\u001b[0m\n\u001b[0m\u001b[0;32m      6\u001b[0m \u001b[1;32mimport\u001b[0m \u001b[0mrandom\u001b[0m\u001b[1;33m\u001b[0m\u001b[1;33m\u001b[0m\u001b[0m\n\u001b[0;32m      7\u001b[0m \u001b[1;32mimport\u001b[0m \u001b[0mmatplotlib\u001b[0m\u001b[1;33m.\u001b[0m\u001b[0mpyplot\u001b[0m \u001b[1;32mas\u001b[0m \u001b[0mplt\u001b[0m\u001b[1;33m\u001b[0m\u001b[1;33m\u001b[0m\u001b[0m\n",
      "\u001b[1;31mModuleNotFoundError\u001b[0m: No module named 'Bio'"
     ]
    }
   ],
   "source": [
    "import sys\n",
    "import subprocess\n",
    "import re\n",
    "\n",
    "from Bio import SeqIO\n",
    "import random\n",
    "import matplotlib.pyplot as plt\n",
    "import numpy as np\n",
    "import pandas as pd\n",
    "import seaborn as sns"
   ]
  },
  {
   "cell_type": "code",
   "execution_count": 47,
   "metadata": {},
   "outputs": [
    {
     "ename": "NameError",
     "evalue": "name 'SeqIO' is not defined",
     "output_type": "error",
     "traceback": [
      "\u001b[1;31m---------------------------------------------------------------------------\u001b[0m",
      "\u001b[1;31mNameError\u001b[0m                                 Traceback (most recent call last)",
      "\u001b[1;32m<ipython-input-47-c9e9ada01ad1>\u001b[0m in \u001b[0;36m<module>\u001b[1;34m\u001b[0m\n\u001b[0;32m    168\u001b[0m     \u001b[0mdataset\u001b[0m \u001b[1;33m=\u001b[0m \u001b[1;33m[\u001b[0m\u001b[1;33m]\u001b[0m\u001b[1;33m\u001b[0m\u001b[1;33m\u001b[0m\u001b[0m\n\u001b[0;32m    169\u001b[0m     \u001b[0mout\u001b[0m \u001b[1;33m=\u001b[0m \u001b[1;34m\"\"\u001b[0m\u001b[1;33m\u001b[0m\u001b[1;33m\u001b[0m\u001b[0m\n\u001b[1;32m--> 170\u001b[1;33m     \u001b[1;32mfor\u001b[0m \u001b[0mrecord\u001b[0m \u001b[1;32min\u001b[0m \u001b[0mSeqIO\u001b[0m\u001b[1;33m.\u001b[0m\u001b[0mparse\u001b[0m\u001b[1;33m(\u001b[0m\u001b[0minfile\u001b[0m\u001b[1;33m,\u001b[0m \u001b[1;34m\"fasta\"\u001b[0m\u001b[1;33m)\u001b[0m\u001b[1;33m:\u001b[0m\u001b[1;33m\u001b[0m\u001b[1;33m\u001b[0m\u001b[0m\n\u001b[0m\u001b[0;32m    171\u001b[0m         \u001b[0mid_part\u001b[0m \u001b[1;33m=\u001b[0m \u001b[0mrecord\u001b[0m\u001b[1;33m.\u001b[0m\u001b[0mid\u001b[0m\u001b[1;33m\u001b[0m\u001b[1;33m\u001b[0m\u001b[0m\n\u001b[0;32m    172\u001b[0m         \u001b[0mid_parts\u001b[0m \u001b[1;33m=\u001b[0m \u001b[0mid_part\u001b[0m\u001b[1;33m.\u001b[0m\u001b[0msplit\u001b[0m\u001b[1;33m(\u001b[0m\u001b[1;34m\",\"\u001b[0m\u001b[1;33m)\u001b[0m\u001b[1;33m\u001b[0m\u001b[1;33m\u001b[0m\u001b[0m\n",
      "\u001b[1;31mNameError\u001b[0m: name 'SeqIO' is not defined"
     ]
    }
   ],
   "source": [
    "\n",
    "def run_DAFS(path):\n",
    "    inn = subprocess.Popen(['dafscnn', path], stdout=subprocess.PIPE)\n",
    "    buf = []\n",
    "    while True:\n",
    "        innline = inn.stdout.readline().decode('utf-8')\n",
    "        buf.append(innline)\n",
    "        \n",
    "        if not innline:\n",
    "            break\n",
    "\n",
    "    return buf[4].strip().upper(), buf[6].strip().upper()\n",
    "\n",
    "def get_basepair_matrix(path_to_bpfile):\n",
    "    \n",
    "    mat = []\n",
    "    lineArray =[]\n",
    "    seqlen = []\n",
    "    l = 0\n",
    "    ## Store data in list(mat) from input file.\n",
    "    for line in open(path_to_bpfile,'r'):\n",
    "        if line[0] == '>':\n",
    "            mat = mat + [lineArray]\n",
    "            seqlen = seqlen + [l]\n",
    "            \n",
    "            lineArray = []\n",
    "            l = 0\n",
    "        else:\n",
    "            li = re.split('[\\s]', line)\n",
    "            li.pop()\n",
    "            lineArray = lineArray + [li]\n",
    "            l += 1\n",
    "    mat = mat + [lineArray]\n",
    "    seqlen = seqlen + [l]\n",
    "    mat.pop(0)\n",
    "    seqlen.pop(0)\n",
    "    \n",
    "    i = 0\n",
    "    Array = []\n",
    "    ## Make base-pair probability matrix(Array) from list(mat)\n",
    "    for n in seqlen:\n",
    "        arr = np.zeros((n,n), float)\n",
    "        for j in range(n):\n",
    "            for k in mat[i][j]:\n",
    "                rate = re.split('[:]', k)\n",
    "                if len(rate) > 1:\n",
    "                    arr[j][int(rate[0])] = float(rate[1])\n",
    "        i += 1\n",
    "        Array = Array + [arr]\n",
    "\n",
    "    bp_mat = []\n",
    "    ## Calcurate base-pair probability\n",
    "    for i in range(len(seqlen)):\n",
    "        bp = np.zeros([seqlen[i], 3], dtype=np.float32)\n",
    "        # each base\n",
    "        for j in range(seqlen[i]):\n",
    "            Left = 0\n",
    "            Right = 0\n",
    "            # probability of (\n",
    "            for k in range(j, seqlen[i]):\n",
    "                Left += Array[i][j][k]\n",
    "            # probability of )\n",
    "            for k in range(j):\n",
    "                Right += Array[i][k][j]\n",
    "            bp[j][0] = Left\n",
    "            bp[j][1] = Right\n",
    "            bp[j][2] = 1 - Left - Right\n",
    "            \n",
    "        bp_mat = bp_mat + [bp]\n",
    "    #print(bp_mat)\n",
    "\n",
    "    return bp_mat\n",
    "\n",
    "def make_pairFASTA(dataset, itr1, outpath):\n",
    "    train_data = np.empty((0,1200,16), dtype=np.float32)\n",
    "    train_label = np.empty((0), dtype=np.int32)\n",
    "\n",
    "    for j in range(itr1+1, len(dataset)):\n",
    "        # make pairFASTA file\n",
    "        path_to_pairFasta = \"./pair\" + str(itr1) + \",\" + str(j) + \".fa\"\n",
    "        f = open(path_to_pairFasta, 'w')\n",
    "        pairFa = \"\"\n",
    "        for k in [dataset[itr1], dataset[j]]:\n",
    "            pairFa += \">\" + k[0] + \"\\n\" + k[2] + \"\\n\"\n",
    "        f.write(pairFa)\n",
    "        f.close()\n",
    "\n",
    "        # calculate pairwise alignment score by DAFS\n",
    "        pair1, pair2 = run_DAFS(path_to_pairFasta)\n",
    "        subprocess.call([\"rm\", path_to_pairFasta])\n",
    "\n",
    "        # get base pair matrix\n",
    "        path_to_bpfile = \"bp\" + dataset[itr1][0] + \"_\" + dataset[j][0] + \".txt\"\n",
    "        bp_mat = get_basepair_matrix(path_to_bpfile)\n",
    "        subprocess.call([\"rm\", path_to_bpfile])\n",
    "\n",
    "        # make train data\n",
    "        data = np.zeros(([1200,16]), dtype=np.float32)\n",
    "        n1 = 0 \n",
    "        n2 = 0 \n",
    "        for k in range(len(pair1)):\n",
    "            ## pair1's data\n",
    "             # bases data\n",
    "            if pair1[k] == \"A\":\n",
    "                data[k][0] = 1 \n",
    "            elif pair1[k] == \"T\":\n",
    "                data[k][1] = 1 \n",
    "            elif pair1[k] == \"G\":\n",
    "                data[k][2] = 1 \n",
    "            elif pair1[k] == \"C\":\n",
    "                data[k][3] = 1 \n",
    "            elif pair1[k] == \"-\":\n",
    "                data[k][4] = 1 \n",
    "             # base-pair probability data\n",
    "            if pair1[k] != \"-\":\n",
    "                data[k][5] = bp_mat[0][n1][0]\n",
    "                data[k][6] = bp_mat[0][n1][1]\n",
    "                data[k][7] = bp_mat[0][n1][2]\n",
    "                n1 += 1\n",
    "            \n",
    "            ## pair2's data\n",
    "             # bases data\n",
    "            if pair2[k] == \"A\":\n",
    "                data[k][8] = 1 \n",
    "            elif pair2[k] == \"T\":\n",
    "                data[k][9] = 1 \n",
    "            elif pair2[k] == \"G\":\n",
    "                data[k][10] = 1 \n",
    "            elif pair2[k] == \"C\":\n",
    "                data[k][11] = 1 \n",
    "            elif pair2[k] == \"-\":\n",
    "                data[k][12] = 1 \n",
    "            # base-pair probability data\n",
    "            if pair2[k] != \"-\":\n",
    "                data[k][13] = bp_mat[1][n2][0]\n",
    "                data[k][14] = bp_mat[1][n2][1]\n",
    "                data[k][15] = bp_mat[1][n2][2]\n",
    "                n2 += 1\n",
    "\n",
    "        # make train label\n",
    "        if dataset[itr1][1] == dataset[j][1]:\n",
    "            label = 0\n",
    "        else:\n",
    "            label = 1\n",
    "\n",
    "        train_data = np.append(train_data, np.array([data]), axis=0)\n",
    "        train_label = np.append(train_label, label)\n",
    "            \n",
    "    #print(train_data)\n",
    "    #print(train_label)\n",
    "\n",
    "    outdata = outpath + \"/portion/ncRNApair_data\" + str(itr1) + \".npy\"\n",
    "    outlabel = outpath + \"/portion/ncRNApair_label\" + str(itr1) + \".npy\"    \n",
    "\n",
    "    np.save(outdata, train_data)\n",
    "    np.save(outlabel, train_label)\n",
    "\n",
    "\n",
    "if __name__ == '__main__':\n",
    "\n",
    "    infile = sys.argv[1]\n",
    "    itr1 = 1\n",
    "    outpath = './outdir'\n",
    "\n",
    "    if outpath[-1] == \"/\":\n",
    "        outpath = outpath[:-1]\n",
    "\n",
    "    ###### read fasta file #######\n",
    "    dataset = []\n",
    "    out = \"\"\n",
    "    for record in SeqIO.parse(infile, \"fasta\"):\n",
    "        id_part = record.id\n",
    "        id_parts = id_part.split(\",\")\n",
    "        seq_part = str(record.seq.upper())\n",
    "\n",
    "        # geneset : [[gene name, genelabel(mi=0,sno=1,t=2), sequence],...\n",
    "        dataset = dataset + [[id_parts[0], int(id_parts[1]), seq_part]]\n",
    "        \n",
    "        out += id_parts[0] + \":\" + id_parts[1] + \"\\n\"\n",
    "    f = open(outpath+\"/genelabel.txt\", \"w\")\n",
    "    f.write(out)\n",
    "    f.close()\n",
    "\n",
    "    ##############################\n",
    "\n",
    "    make_pairFASTA(dataset, itr1, outpath)"
   ]
  },
  {
   "cell_type": "markdown",
   "metadata": {},
   "source": [
    "## AssemblyMatrix\n",
    "    Input : ./outdir\n",
    "    Output : \"ncRNApair_data.npy\" And \"ncRNApair_labe.npy\""
   ]
  },
  {
   "cell_type": "code",
   "execution_count": 48,
   "metadata": {},
   "outputs": [],
   "source": [
    "def assembledata(ddir):\n",
    "\n",
    "    checkdata = np.load(ddir+\"/portion/ncRNApair_data0.npy\")\n",
    "    dsize = len(checkdata) + 1\n",
    "    print('dsize =',dsize)\n",
    "    genelen = len(checkdata[0])\n",
    "    width = len(checkdata[0][0])\n",
    "\n",
    "    data = np.empty((0,genelen,width), dtype=np.float32)\n",
    "    label = np.empty((0), dtype=np.int32)\n",
    "\n",
    "    print(\"Makeing data...\")\n",
    "    start = time.time()\n",
    "\n",
    "    for i in range(2):\n",
    "        indata = ddir + \"/portion/ncRNApair_data\"+str(i)+\".npy\"\n",
    "        inlabel = ddir + \"/portion/ncRNApair_label\"+str(i)+\".npy\"\n",
    "\n",
    "        tmpdata = np.load(indata)\n",
    "        tmplabel = np.load(inlabel)\n",
    "        \n",
    "        print(tmpdata.shape[0])\n",
    "\n",
    "        data = np.concatenate([data, tmpdata], axis=0)\n",
    "        label = np.concatenate([label, tmplabel], axis=0)\n",
    "\n",
    "    print(\"Complete makeing data.\")\n",
    "    elapsed_time = time.time() - start\n",
    "    print (\"Loding time:{0}\".format(elapsed_time) + \"[sec]\")\n",
    "    print(\"Data size :\",len(data),\"*\",len(data[0]),\"*\",len(data[0][0]))\n",
    "\n",
    "    print('here :',ddir+\"/ncRNApair_data.npy\")\n",
    "    np.save(\"ncRNApair_data.npy\", data)\n",
    "    np.save(\"ncRNApair_label.npy\", label)\n"
   ]
  },
  {
   "cell_type": "code",
   "execution_count": 49,
   "metadata": {},
   "outputs": [],
   "source": [
    "temo =  np.load(\"ncRNApair_label.npy\")"
   ]
  },
  {
   "cell_type": "code",
   "execution_count": 50,
   "metadata": {},
   "outputs": [
    {
     "data": {
      "text/plain": [
       "array([0, 0, 0, 0, 0, 0, 0, 0, 0, 1, 1, 1, 1, 1, 1, 1, 1, 1, 1, 1, 1, 1,\n",
       "       1, 1, 1, 1, 1, 1, 1, 1, 1, 1, 1, 1, 1, 1, 1, 1, 1, 1, 1, 1, 1, 1,\n",
       "       1, 1, 1, 1, 1, 1, 1, 1, 1, 1, 1, 1, 1, 1, 1, 0, 0, 0, 0, 0, 0, 0,\n",
       "       0, 1, 1, 1, 1, 1, 1, 1, 1, 1, 1, 1, 1, 1, 1, 1, 1, 1, 1, 1, 1, 1,\n",
       "       1, 1, 1, 1, 1, 1, 1, 1, 1, 1, 1, 1, 1, 1, 1, 1, 1, 1, 1, 1, 1, 1,\n",
       "       1, 1, 1, 1, 1, 1, 1], dtype=int64)"
      ]
     },
     "execution_count": 50,
     "metadata": {},
     "output_type": "execute_result"
    }
   ],
   "source": [
    "temo"
   ]
  },
  {
   "cell_type": "code",
   "execution_count": 51,
   "metadata": {},
   "outputs": [
    {
     "name": "stdout",
     "output_type": "stream",
     "text": [
      "dsize = 60\n",
      "Makeing data...\n",
      "59\n",
      "58\n",
      "Complete makeing data.\n",
      "Loding time:0.013013601303100586[sec]\n",
      "Data size : 117 * 1200 * 16\n",
      "here : ./outdir/ncRNApair_data.npy\n"
     ]
    }
   ],
   "source": [
    "datadir = sys.argv[1]\n",
    "if datadir[-1] == \"/\":\n",
    "    datadir = datadir[:-1]\n",
    "\n",
    "assembledata('./outdir')"
   ]
  },
  {
   "cell_type": "code",
   "execution_count": 52,
   "metadata": {},
   "outputs": [],
   "source": [
    "genelabellist = []\n",
    "for line in open('./outdir/genelabel.txt', 'r'):\n",
    "    lines = line.strip().split(\":\")    # Separater is \":\".\n",
    "    genelabellist.append(int(lines[1]))\n",
    "    \n",
    "genelabellist = np.asarray(genelabellist)\n",
    "inputfam = np.unique(genelabellist)"
   ]
  },
  {
   "cell_type": "markdown",
   "metadata": {},
   "source": [
    "## DeepLearning\n",
    "    Input : \"ncRNApair_data.npy\" And \"ncRNApair_labe.npy\"\n",
    "    Output : "
   ]
  },
  {
   "cell_type": "code",
   "execution_count": 53,
   "metadata": {},
   "outputs": [],
   "source": [
    "x_test = np.load('ncRNApair_data.npy')\n",
    "y_test = np.load('ncRNApair_label.npy')"
   ]
  },
  {
   "cell_type": "code",
   "execution_count": 54,
   "metadata": {},
   "outputs": [],
   "source": [
    "x_train = np.load('testdata/ncRNApairdataDAFS_test.npy')\n",
    "y_train = np.load('testdata/ncRNApairlabel_test.npy')"
   ]
  },
  {
   "cell_type": "code",
   "execution_count": 55,
   "metadata": {},
   "outputs": [],
   "source": [
    "first_pair = x_train[0][:10]"
   ]
  },
  {
   "cell_type": "code",
   "execution_count": 64,
   "metadata": {},
   "outputs": [],
   "source": [
    "import pandas as pd\n",
    "arr = [ ['1st','1st','1st','1st','1st','1st','1st','1st','2nd','2nd','2nd','2nd','2nd','2nd','2nd','2nd',] ,\n",
    "           ['sequence','sequence','sequence','sequence','sequence','base-pair probability','base-pair probability','base-pair probability',\n",
    "             'sequence','sequence','sequence','sequence','sequence','base-pair probability','base-pair probability','base-pair probability'],\n",
    "            ['A','U','G','C','-(gap)', '(' ,')' ,'none','A','U','G','C','-(gap)','(',')','none']]\n",
    "tuples = list(zip(*arr))\n",
    "index = pd.MultiIndex.from_tuples(tuples)"
   ]
  },
  {
   "cell_type": "code",
   "execution_count": 65,
   "metadata": {
    "scrolled": false
   },
   "outputs": [
    {
     "data": {
      "text/html": [
       "<div>\n",
       "<style scoped>\n",
       "    .dataframe tbody tr th:only-of-type {\n",
       "        vertical-align: middle;\n",
       "    }\n",
       "\n",
       "    .dataframe tbody tr th {\n",
       "        vertical-align: top;\n",
       "    }\n",
       "\n",
       "    .dataframe thead th {\n",
       "        text-align: right;\n",
       "    }\n",
       "</style>\n",
       "<table border=\"1\" class=\"dataframe\">\n",
       "  <thead>\n",
       "    <tr style=\"text-align: right;\">\n",
       "      <th></th>\n",
       "      <th></th>\n",
       "      <th></th>\n",
       "      <th>0</th>\n",
       "      <th>1</th>\n",
       "      <th>2</th>\n",
       "      <th>3</th>\n",
       "      <th>4</th>\n",
       "      <th>5</th>\n",
       "      <th>6</th>\n",
       "      <th>7</th>\n",
       "      <th>8</th>\n",
       "      <th>9</th>\n",
       "    </tr>\n",
       "  </thead>\n",
       "  <tbody>\n",
       "    <tr>\n",
       "      <th rowspan=\"8\" valign=\"top\">1st</th>\n",
       "      <th rowspan=\"5\" valign=\"top\">sequence</th>\n",
       "      <th>A</th>\n",
       "      <td>0.000000</td>\n",
       "      <td>0.000000</td>\n",
       "      <td>0.000000</td>\n",
       "      <td>0.000000</td>\n",
       "      <td>0.000000</td>\n",
       "      <td>0.000000</td>\n",
       "      <td>1.000000</td>\n",
       "      <td>0.000000</td>\n",
       "      <td>0.000000</td>\n",
       "      <td>0.000000</td>\n",
       "    </tr>\n",
       "    <tr>\n",
       "      <th>U</th>\n",
       "      <td>0.000000</td>\n",
       "      <td>1.000000</td>\n",
       "      <td>0.000000</td>\n",
       "      <td>0.000000</td>\n",
       "      <td>1.000000</td>\n",
       "      <td>0.000000</td>\n",
       "      <td>0.000000</td>\n",
       "      <td>0.000000</td>\n",
       "      <td>1.000000</td>\n",
       "      <td>1.000000</td>\n",
       "    </tr>\n",
       "    <tr>\n",
       "      <th>G</th>\n",
       "      <td>1.000000</td>\n",
       "      <td>0.000000</td>\n",
       "      <td>1.000000</td>\n",
       "      <td>0.000000</td>\n",
       "      <td>0.000000</td>\n",
       "      <td>0.000000</td>\n",
       "      <td>0.000000</td>\n",
       "      <td>0.000000</td>\n",
       "      <td>0.000000</td>\n",
       "      <td>0.000000</td>\n",
       "    </tr>\n",
       "    <tr>\n",
       "      <th>C</th>\n",
       "      <td>0.000000</td>\n",
       "      <td>0.000000</td>\n",
       "      <td>0.000000</td>\n",
       "      <td>1.000000</td>\n",
       "      <td>0.000000</td>\n",
       "      <td>1.000000</td>\n",
       "      <td>0.000000</td>\n",
       "      <td>1.000000</td>\n",
       "      <td>0.000000</td>\n",
       "      <td>0.000000</td>\n",
       "    </tr>\n",
       "    <tr>\n",
       "      <th>-(gap)</th>\n",
       "      <td>0.000000</td>\n",
       "      <td>0.000000</td>\n",
       "      <td>0.000000</td>\n",
       "      <td>0.000000</td>\n",
       "      <td>0.000000</td>\n",
       "      <td>0.000000</td>\n",
       "      <td>0.000000</td>\n",
       "      <td>0.000000</td>\n",
       "      <td>0.000000</td>\n",
       "      <td>0.000000</td>\n",
       "    </tr>\n",
       "    <tr>\n",
       "      <th rowspan=\"3\" valign=\"top\">base-pair probability</th>\n",
       "      <th>(</th>\n",
       "      <td>0.430352</td>\n",
       "      <td>0.493309</td>\n",
       "      <td>0.768841</td>\n",
       "      <td>0.739032</td>\n",
       "      <td>0.653578</td>\n",
       "      <td>0.215661</td>\n",
       "      <td>0.071146</td>\n",
       "      <td>0.437512</td>\n",
       "      <td>0.441314</td>\n",
       "      <td>0.401966</td>\n",
       "    </tr>\n",
       "    <tr>\n",
       "      <th>)</th>\n",
       "      <td>0.000000</td>\n",
       "      <td>0.000000</td>\n",
       "      <td>0.000000</td>\n",
       "      <td>0.000000</td>\n",
       "      <td>0.000000</td>\n",
       "      <td>0.000000</td>\n",
       "      <td>0.000000</td>\n",
       "      <td>0.000000</td>\n",
       "      <td>0.000000</td>\n",
       "      <td>0.000000</td>\n",
       "    </tr>\n",
       "    <tr>\n",
       "      <th>none</th>\n",
       "      <td>0.569648</td>\n",
       "      <td>0.506691</td>\n",
       "      <td>0.231159</td>\n",
       "      <td>0.260968</td>\n",
       "      <td>0.346422</td>\n",
       "      <td>0.784339</td>\n",
       "      <td>0.928854</td>\n",
       "      <td>0.562488</td>\n",
       "      <td>0.558686</td>\n",
       "      <td>0.598034</td>\n",
       "    </tr>\n",
       "    <tr>\n",
       "      <th rowspan=\"8\" valign=\"top\">2nd</th>\n",
       "      <th rowspan=\"5\" valign=\"top\">sequence</th>\n",
       "      <th>A</th>\n",
       "      <td>1.000000</td>\n",
       "      <td>0.000000</td>\n",
       "      <td>0.000000</td>\n",
       "      <td>0.000000</td>\n",
       "      <td>0.000000</td>\n",
       "      <td>0.000000</td>\n",
       "      <td>0.000000</td>\n",
       "      <td>0.000000</td>\n",
       "      <td>0.000000</td>\n",
       "      <td>1.000000</td>\n",
       "    </tr>\n",
       "    <tr>\n",
       "      <th>U</th>\n",
       "      <td>0.000000</td>\n",
       "      <td>0.000000</td>\n",
       "      <td>0.000000</td>\n",
       "      <td>0.000000</td>\n",
       "      <td>1.000000</td>\n",
       "      <td>1.000000</td>\n",
       "      <td>1.000000</td>\n",
       "      <td>0.000000</td>\n",
       "      <td>0.000000</td>\n",
       "      <td>0.000000</td>\n",
       "    </tr>\n",
       "    <tr>\n",
       "      <th>G</th>\n",
       "      <td>0.000000</td>\n",
       "      <td>0.000000</td>\n",
       "      <td>1.000000</td>\n",
       "      <td>0.000000</td>\n",
       "      <td>0.000000</td>\n",
       "      <td>0.000000</td>\n",
       "      <td>0.000000</td>\n",
       "      <td>1.000000</td>\n",
       "      <td>0.000000</td>\n",
       "      <td>0.000000</td>\n",
       "    </tr>\n",
       "    <tr>\n",
       "      <th>C</th>\n",
       "      <td>0.000000</td>\n",
       "      <td>0.000000</td>\n",
       "      <td>0.000000</td>\n",
       "      <td>1.000000</td>\n",
       "      <td>0.000000</td>\n",
       "      <td>0.000000</td>\n",
       "      <td>0.000000</td>\n",
       "      <td>0.000000</td>\n",
       "      <td>1.000000</td>\n",
       "      <td>0.000000</td>\n",
       "    </tr>\n",
       "    <tr>\n",
       "      <th>-(gap)</th>\n",
       "      <td>0.000000</td>\n",
       "      <td>1.000000</td>\n",
       "      <td>0.000000</td>\n",
       "      <td>0.000000</td>\n",
       "      <td>0.000000</td>\n",
       "      <td>0.000000</td>\n",
       "      <td>0.000000</td>\n",
       "      <td>0.000000</td>\n",
       "      <td>0.000000</td>\n",
       "      <td>0.000000</td>\n",
       "    </tr>\n",
       "    <tr>\n",
       "      <th rowspan=\"3\" valign=\"top\">base-pair probability</th>\n",
       "      <th>(</th>\n",
       "      <td>0.021740</td>\n",
       "      <td>0.000000</td>\n",
       "      <td>0.620937</td>\n",
       "      <td>0.638309</td>\n",
       "      <td>0.283339</td>\n",
       "      <td>0.213054</td>\n",
       "      <td>0.240961</td>\n",
       "      <td>0.590614</td>\n",
       "      <td>0.614908</td>\n",
       "      <td>0.010189</td>\n",
       "    </tr>\n",
       "    <tr>\n",
       "      <th>)</th>\n",
       "      <td>0.000000</td>\n",
       "      <td>0.000000</td>\n",
       "      <td>0.000000</td>\n",
       "      <td>0.000000</td>\n",
       "      <td>0.000000</td>\n",
       "      <td>0.000000</td>\n",
       "      <td>0.000000</td>\n",
       "      <td>0.038995</td>\n",
       "      <td>0.043169</td>\n",
       "      <td>0.000000</td>\n",
       "    </tr>\n",
       "    <tr>\n",
       "      <th>none</th>\n",
       "      <td>0.978260</td>\n",
       "      <td>0.000000</td>\n",
       "      <td>0.379063</td>\n",
       "      <td>0.361691</td>\n",
       "      <td>0.716661</td>\n",
       "      <td>0.786946</td>\n",
       "      <td>0.759039</td>\n",
       "      <td>0.370391</td>\n",
       "      <td>0.341923</td>\n",
       "      <td>0.989811</td>\n",
       "    </tr>\n",
       "  </tbody>\n",
       "</table>\n",
       "</div>"
      ],
      "text/plain": [
       "                                         0         1         2         3  \\\n",
       "1st sequence              A       0.000000  0.000000  0.000000  0.000000   \n",
       "                          U       0.000000  1.000000  0.000000  0.000000   \n",
       "                          G       1.000000  0.000000  1.000000  0.000000   \n",
       "                          C       0.000000  0.000000  0.000000  1.000000   \n",
       "                          -(gap)  0.000000  0.000000  0.000000  0.000000   \n",
       "    base-pair probability (       0.430352  0.493309  0.768841  0.739032   \n",
       "                          )       0.000000  0.000000  0.000000  0.000000   \n",
       "                          none    0.569648  0.506691  0.231159  0.260968   \n",
       "2nd sequence              A       1.000000  0.000000  0.000000  0.000000   \n",
       "                          U       0.000000  0.000000  0.000000  0.000000   \n",
       "                          G       0.000000  0.000000  1.000000  0.000000   \n",
       "                          C       0.000000  0.000000  0.000000  1.000000   \n",
       "                          -(gap)  0.000000  1.000000  0.000000  0.000000   \n",
       "    base-pair probability (       0.021740  0.000000  0.620937  0.638309   \n",
       "                          )       0.000000  0.000000  0.000000  0.000000   \n",
       "                          none    0.978260  0.000000  0.379063  0.361691   \n",
       "\n",
       "                                         4         5         6         7  \\\n",
       "1st sequence              A       0.000000  0.000000  1.000000  0.000000   \n",
       "                          U       1.000000  0.000000  0.000000  0.000000   \n",
       "                          G       0.000000  0.000000  0.000000  0.000000   \n",
       "                          C       0.000000  1.000000  0.000000  1.000000   \n",
       "                          -(gap)  0.000000  0.000000  0.000000  0.000000   \n",
       "    base-pair probability (       0.653578  0.215661  0.071146  0.437512   \n",
       "                          )       0.000000  0.000000  0.000000  0.000000   \n",
       "                          none    0.346422  0.784339  0.928854  0.562488   \n",
       "2nd sequence              A       0.000000  0.000000  0.000000  0.000000   \n",
       "                          U       1.000000  1.000000  1.000000  0.000000   \n",
       "                          G       0.000000  0.000000  0.000000  1.000000   \n",
       "                          C       0.000000  0.000000  0.000000  0.000000   \n",
       "                          -(gap)  0.000000  0.000000  0.000000  0.000000   \n",
       "    base-pair probability (       0.283339  0.213054  0.240961  0.590614   \n",
       "                          )       0.000000  0.000000  0.000000  0.038995   \n",
       "                          none    0.716661  0.786946  0.759039  0.370391   \n",
       "\n",
       "                                         8         9  \n",
       "1st sequence              A       0.000000  0.000000  \n",
       "                          U       1.000000  1.000000  \n",
       "                          G       0.000000  0.000000  \n",
       "                          C       0.000000  0.000000  \n",
       "                          -(gap)  0.000000  0.000000  \n",
       "    base-pair probability (       0.441314  0.401966  \n",
       "                          )       0.000000  0.000000  \n",
       "                          none    0.558686  0.598034  \n",
       "2nd sequence              A       0.000000  1.000000  \n",
       "                          U       0.000000  0.000000  \n",
       "                          G       0.000000  0.000000  \n",
       "                          C       1.000000  0.000000  \n",
       "                          -(gap)  0.000000  0.000000  \n",
       "    base-pair probability (       0.614908  0.010189  \n",
       "                          )       0.043169  0.000000  \n",
       "                          none    0.341923  0.989811  "
      ]
     },
     "execution_count": 65,
     "metadata": {},
     "output_type": "execute_result"
    }
   ],
   "source": [
    "col1 = pd.DataFrame(first_pair.T, index=index)\n",
    "col1"
   ]
  },
  {
   "cell_type": "code",
   "execution_count": 66,
   "metadata": {},
   "outputs": [
    {
     "name": "stdout",
     "output_type": "stream",
     "text": [
      "x_train.shape = (1770, 1200, 16)\n",
      "x_test.shape = (117, 1200, 16)\n"
     ]
    }
   ],
   "source": [
    "print('x_train.shape =',x_train.shape)\n",
    "print('x_test.shape =',x_test.shape)"
   ]
  },
  {
   "cell_type": "code",
   "execution_count": 67,
   "metadata": {},
   "outputs": [],
   "source": [
    "import tensorflow as tf\n",
    "cnn = tf.keras.models.Sequential()\n",
    "cnn.add(tf.keras.layers.Conv1D(filters=16, kernel_size=3, activation='relu', input_shape=(1200,16)))\n",
    "cnn.add(tf.keras.layers.MaxPool1D(pool_size=2, strides=2))\n",
    "cnn.add(tf.keras.layers.Conv1D(filters=16, kernel_size=3, activation='relu'))\n",
    "cnn.add(tf.keras.layers.MaxPool1D(pool_size=2, strides=2))\n",
    "cnn.add(tf.keras.layers.Flatten())\n",
    "cnn.add(tf.keras.layers.Dense(units=16, activation='relu'))\n",
    "cnn.add(tf.keras.layers.BatchNormalization())\n",
    "cnn.add(tf.keras.layers.Dropout(.4))\n",
    "cnn.add(tf.keras.layers.Dense(units=8, activation='relu'))\n",
    "cnn.add(tf.keras.layers.BatchNormalization())\n",
    "cnn.add(tf.keras.layers.Dropout(.3))"
   ]
  },
  {
   "cell_type": "code",
   "execution_count": 68,
   "metadata": {},
   "outputs": [
    {
     "name": "stdout",
     "output_type": "stream",
     "text": [
      "Model: \"sequential_1\"\n",
      "_________________________________________________________________\n",
      "Layer (type)                 Output Shape              Param #   \n",
      "=================================================================\n",
      "conv1d_2 (Conv1D)            (None, 1198, 16)          784       \n",
      "_________________________________________________________________\n",
      "max_pooling1d_2 (MaxPooling1 (None, 599, 16)           0         \n",
      "_________________________________________________________________\n",
      "conv1d_3 (Conv1D)            (None, 597, 16)           784       \n",
      "_________________________________________________________________\n",
      "max_pooling1d_3 (MaxPooling1 (None, 298, 16)           0         \n",
      "_________________________________________________________________\n",
      "flatten_1 (Flatten)          (None, 4768)              0         \n",
      "_________________________________________________________________\n",
      "dense_3 (Dense)              (None, 16)                76304     \n",
      "_________________________________________________________________\n",
      "batch_normalization_2 (Batch (None, 16)                64        \n",
      "_________________________________________________________________\n",
      "dropout_2 (Dropout)          (None, 16)                0         \n",
      "_________________________________________________________________\n",
      "dense_4 (Dense)              (None, 8)                 136       \n",
      "_________________________________________________________________\n",
      "batch_normalization_3 (Batch (None, 8)                 32        \n",
      "_________________________________________________________________\n",
      "dropout_3 (Dropout)          (None, 8)                 0         \n",
      "=================================================================\n",
      "Total params: 78,104\n",
      "Trainable params: 78,056\n",
      "Non-trainable params: 48\n",
      "_________________________________________________________________\n"
     ]
    }
   ],
   "source": [
    "cnn.summary()"
   ]
  },
  {
   "cell_type": "code",
   "execution_count": 69,
   "metadata": {},
   "outputs": [],
   "source": [
    "cnn.add(tf.keras.layers.Dense(units=1, activation='sigmoid'))"
   ]
  },
  {
   "cell_type": "code",
   "execution_count": 70,
   "metadata": {},
   "outputs": [],
   "source": [
    "cnn.compile(optimizer = 'adam', loss = 'binary_crossentropy', metrics = ['accuracy'])"
   ]
  },
  {
   "cell_type": "code",
   "execution_count": 71,
   "metadata": {},
   "outputs": [
    {
     "name": "stdout",
     "output_type": "stream",
     "text": [
      "Epoch 1/10\n",
      "56/56 [==============================] - 1s 18ms/step - loss: 0.8427 - accuracy: 0.5661\n",
      "Epoch 2/10\n",
      "56/56 [==============================] - 1s 17ms/step - loss: 0.6657 - accuracy: 0.6554\n",
      "Epoch 3/10\n",
      "56/56 [==============================] - 1s 17ms/step - loss: 0.5881 - accuracy: 0.7136\n",
      "Epoch 4/10\n",
      "56/56 [==============================] - 1s 17ms/step - loss: 0.5203 - accuracy: 0.7661\n",
      "Epoch 5/10\n",
      "56/56 [==============================] - 1s 17ms/step - loss: 0.4692 - accuracy: 0.7989\n",
      "Epoch 6/10\n",
      "56/56 [==============================] - 1s 19ms/step - loss: 0.4179 - accuracy: 0.8299 0s - loss: 0\n",
      "Epoch 7/10\n",
      "56/56 [==============================] - 1s 17ms/step - loss: 0.3895 - accuracy: 0.8412\n",
      "Epoch 8/10\n",
      "56/56 [==============================] - 1s 17ms/step - loss: 0.3528 - accuracy: 0.8571\n",
      "Epoch 9/10\n",
      "56/56 [==============================] - 1s 17ms/step - loss: 0.3142 - accuracy: 0.8853\n",
      "Epoch 10/10\n",
      "56/56 [==============================] - 1s 17ms/step - loss: 0.2990 - accuracy: 0.8864\n"
     ]
    },
    {
     "data": {
      "text/plain": [
       "<tensorflow.python.keras.callbacks.History at 0x18298b7f648>"
      ]
     },
     "execution_count": 71,
     "metadata": {},
     "output_type": "execute_result"
    }
   ],
   "source": [
    "cnn.fit(x = x_train, y = y_train, epochs = 10)"
   ]
  },
  {
   "cell_type": "code",
   "execution_count": 76,
   "metadata": {},
   "outputs": [
    {
     "name": "stdout",
     "output_type": "stream",
     "text": [
      "[[ 153  117]\n",
      " [   1 1499]]\n",
      "Accuracy for predicting training set : 0.9333333333333333\n",
      "\n",
      "              precision    recall  f1-score   support\n",
      "\n",
      "         0.0       0.99      0.57      0.72       270\n",
      "         1.0       0.93      1.00      0.96      1500\n",
      "\n",
      "    accuracy                           0.93      1770\n",
      "   macro avg       0.96      0.78      0.84      1770\n",
      "weighted avg       0.94      0.93      0.93      1770\n",
      "\n"
     ]
    }
   ],
   "source": [
    "from sklearn.metrics import confusion_matrix, accuracy_score, classification_report\n",
    "\n",
    "def get_res(y_pred):\n",
    "    res_test = []\n",
    "    for i in y_pred:\n",
    "        if i<0.5: res_test.append(0)\n",
    "        else:\n",
    "            res_test.append(1)\n",
    "    return res_test\n",
    "\n",
    "y_pred_train = cnn.predict(x_train)\n",
    "y_pred_train = y_pred_train.reshape((1770,))\n",
    "\n",
    "res = get_res(y_pred_train)\n",
    "print(confusion_matrix(y_train, res))\n",
    "print('Accuracy for predicting training set :',accuracy_score(res,y_train))\n",
    "print('')\n",
    "print(classification_report(y_pred=res, y_true=y_train))"
   ]
  },
  {
   "cell_type": "code",
   "execution_count": 77,
   "metadata": {
    "scrolled": true
   },
   "outputs": [
    {
     "name": "stdout",
     "output_type": "stream",
     "text": [
      "[[ 13   4]\n",
      " [  0 100]]\n",
      "Accuracy for predicting test set : 0.9658119658119658\n",
      "\n",
      "              precision    recall  f1-score   support\n",
      "\n",
      "           0       1.00      0.76      0.87        17\n",
      "           1       0.96      1.00      0.98       100\n",
      "\n",
      "    accuracy                           0.97       117\n",
      "   macro avg       0.98      0.88      0.92       117\n",
      "weighted avg       0.97      0.97      0.96       117\n",
      "\n"
     ]
    }
   ],
   "source": [
    "y_test_pred  = cnn.predict(x_test)\n",
    "y_test_pred = y_test_pred.reshape((117,))\n",
    "res_test = get_res(y_test_pred)\n",
    "print(confusion_matrix(y_test, res_test))\n",
    "print('Accuracy for predicting test set :',accuracy_score(res_test,y_test))\n",
    "print('')\n",
    "print(classification_report(y_pred=res_test, y_true=y_test))"
   ]
  },
  {
   "cell_type": "code",
   "execution_count": 78,
   "metadata": {},
   "outputs": [
    {
     "data": {
      "text/plain": [
       "<matplotlib.axes._subplots.AxesSubplot at 0x1829a543fc8>"
      ]
     },
     "execution_count": 78,
     "metadata": {},
     "output_type": "execute_result"
    },
    {
     "data": {
      "image/png": "[encoded data removed]",
      "text/plain": [
       "<Figure size 432x288 with 2 Axes>"
      ]
     },
     "metadata": {
      "needs_background": "light"
     },
     "output_type": "display_data"
    }
   ],
   "source": [
    "import seaborn as sns\n",
    "sns.heatmap(confusion_matrix(y_train, res)/np.sum(confusion_matrix(y_train, res)),annot=True,fmt='.2%', cmap='Blues')"
   ]
  },
  {
   "cell_type": "code",
   "execution_count": 79,
   "metadata": {},
   "outputs": [
    {
     "data": {
      "text/plain": [
       "<matplotlib.axes._subplots.AxesSubplot at 0x1829079e688>"
      ]
     },
     "execution_count": 79,
     "metadata": {},
     "output_type": "execute_result"
    },
    {
     "data": {
      "image/png": "[encoded data removed]",
      "text/plain": [
       "<Figure size 432x288 with 2 Axes>"
      ]
     },
     "metadata": {
      "needs_background": "light"
     },
     "output_type": "display_data"
    }
   ],
   "source": [
    "sns.heatmap(confusion_matrix(y_test, res_test)/np.sum(confusion_matrix(y_test, res_test)),annot=True,fmt='.2%', cmap='Blues')"
   ]
  },
  {
   "cell_type": "code",
   "execution_count": null,
   "metadata": {},
   "outputs": [],
   "source": []
  }
 ],
 "metadata": {
  "kernelspec": {
   "display_name": "Python 3",
   "language": "python",
   "name": "python3"
  },
  "language_info": {
   "codemirror_mode": {
    "name": "ipython",
    "version": 3
   },
   "file_extension": ".py",
   "mimetype": "text/x-python",
   "name": "python",
   "nbconvert_exporter": "python",
   "pygments_lexer": "ipython3",
   "version": "3.7.6"
  }
 },
 "nbformat": 4,
 "nbformat_minor": 4
}
